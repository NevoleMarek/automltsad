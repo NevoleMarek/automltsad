{
 "cells": [
  {
   "attachments": {},
   "cell_type": "markdown",
   "metadata": {},
   "source": [
    "# Window size importance Experiment\n",
    "\n",
    "This notebook tests the performance of AutoPeriod as an algorithm for automatic window size selection in the context of anomaly detection.\n"
   ]
  },
  {
   "cell_type": "code",
   "execution_count": 9,
   "metadata": {},
   "outputs": [],
   "source": [
    "from multiprocessing import Pool\n",
    "import os\n",
    "import random\n",
    "import warnings\n",
    "\n",
    "warnings.filterwarnings('ignore')\n",
    "\n",
    "from automltsad.detectors import LOF, KNN, IsolationForestAD\n",
    "from automltsad.metrics import precision_recall_curve, f1_pa\n",
    "from automltsad.utils import (\n",
    "    Autoperiod,\n",
    "    sliding_window_sequences,\n",
    "    to_time_series_dataset,\n",
    "    reduce_window_scores,\n",
    ")\n",
    "from latex_figures import set_size\n",
    "\n",
    "\n",
    "import matplotlib.pyplot as plt\n",
    "import numpy as np\n",
    "import pandas as pd\n",
    "import tqdm\n",
    "\n",
    "tex_fonts = {\n",
    "    \"text.usetex\": True,\n",
    "    \"font.family\": \"serif\",\n",
    "    \"axes.labelsize\": 10,\n",
    "    \"font.size\": 10,\n",
    "    \"legend.fontsize\": 8,\n",
    "    \"xtick.labelsize\": 8,\n",
    "    \"ytick.labelsize\": 8,\n",
    "}\n",
    "\n",
    "plt.style.use('seaborn-v0_8-paper')\n",
    "plt.rcParams.update(tex_fonts)\n"
   ]
  },
  {
   "attachments": {},
   "cell_type": "markdown",
   "metadata": {},
   "source": [
    "Experiments are made only on 10 random datasets. This is a prerequisite experiment and not a part of thesis main experiments."
   ]
  },
  {
   "cell_type": "code",
   "execution_count": 10,
   "metadata": {},
   "outputs": [],
   "source": [
    "with open('data/train.txt') as f:\n",
    "    datasets = f.readlines()\n",
    "\n",
    "# indices = random.sample(range(len(datasets)),10)\n",
    "# print(indices)\n",
    "\n",
    "dataset_idx = [58, 91, 17, 90, 92, 21, 39, 79, 73, 80]\n",
    "dataset_names = [datasets[i].strip('\\n') for i in dataset_idx]\n"
   ]
  },
  {
   "cell_type": "code",
   "execution_count": 11,
   "metadata": {},
   "outputs": [],
   "source": [
    "# Helper functions\n",
    "\n",
    "def load_dataset(filename):\n",
    "    \"\"\"\n",
    "    Load and preprocess a dataset\n",
    "    \"\"\"\n",
    "    test_start, anomaly_start, anomaly_end = [\n",
    "        int(i) for i in filename.split('.')[0].split('_')[-3:]\n",
    "    ]\n",
    "    ts = np.loadtxt(f'./data/datasets/{filename}')\n",
    "    ts = to_time_series_dataset(ts)\n",
    "    mean = np.mean(ts[:, :test_start])\n",
    "    std = np.std(ts[:, :test_start])\n",
    "    train = (ts[:, :test_start] - mean) / std\n",
    "    test = (ts[:, test_start:] - mean) / std\n",
    "    label = np.zeros_like(test)\n",
    "    label[:, anomaly_start - test_start : anomaly_end - test_start] = 1\n",
    "    label = np.squeeze(label)\n",
    "    return train, test, label, test_start, anomaly_start, anomaly_end\n",
    "\n",
    "\n",
    "def window_data(train, test, size):\n",
    "    \"\"\"\n",
    "    Window train and test splits\n",
    "    \"\"\"\n",
    "    train_w = sliding_window_sequences(train, size)\n",
    "    test_w = sliding_window_sequences(test, size)\n",
    "    return train_w, test_w\n",
    "\n",
    "\n",
    "# Utility dictionaries\n",
    "id_to_detector = dict(knn=KNN, lof=LOF, isoforest=IsolationForestAD)\n",
    "hyperparams = {\n",
    "    'knn': {},  # Default\n",
    "    'lof': {},  # Default\n",
    "    'isoforest': {},  # Default\n",
    "}\n"
   ]
  },
  {
   "attachments": {},
   "cell_type": "markdown",
   "metadata": {},
   "source": [
    "k-NN, LOF, and IF are tested on all datasets with window sizes from 16 to 512 with steps of 16."
   ]
  },
  {
   "cell_type": "code",
   "execution_count": 12,
   "metadata": {},
   "outputs": [],
   "source": [
    "detectors = ['knn', 'lof', 'isoforest']\n",
    "window_sizes = list(range(16, 513, 16))\n",
    "\n",
    "# Create arrays for results\n",
    "f1_scores = np.zeros((len(detectors), len(dataset_names), len(window_sizes)))\n",
    "f1_wo_pa_scores = np.zeros(\n",
    "    (len(detectors), len(dataset_names), len(window_sizes))\n",
    ")\n",
    "f1_pa_scores = np.zeros(\n",
    "    (len(detectors), len(dataset_names), len(window_sizes))\n",
    ")\n",
    "\n",
    "# Create tasks to be processed\n",
    "configurations = []\n",
    "for i, det_id in enumerate(detectors):\n",
    "    for j, fn in enumerate(dataset_names):\n",
    "        for k, sz in enumerate(window_sizes):  # Window sizes\n",
    "            configurations.append((i, j, k, det_id, fn, sz))\n",
    "\n",
    "\n",
    "def process_task(config):\n",
    "    \"\"\"\n",
    "    Preprocess data according to configuration\n",
    "    Train and evaluate a detector using various metrics\n",
    "    \"\"\"\n",
    "    i, j, k, det_id, fn, sz = config\n",
    "    # Data\n",
    "    train, test, label, test_start, anomaly_start, anomaly_end = load_dataset(\n",
    "        fn\n",
    "    )\n",
    "    train_w, test_w = window_data(train, test, sz)\n",
    "\n",
    "    # Detector\n",
    "    detector = id_to_detector[det_id]\n",
    "    model = detector(**hyperparams[det_id])\n",
    "    model.fit(train_w)\n",
    "\n",
    "    # Scoring\n",
    "    scores = model.predict_anomaly_scores(test_w)\n",
    "    scores = reduce_window_scores(scores, sz)\n",
    "\n",
    "    # Evaluation\n",
    "    p, r, t = precision_recall_curve(label, scores)\n",
    "    f1 = 2 * p * r / (p + r + 1e-12)\n",
    "    idx = np.nanargmax(f1)\n",
    "    step = max(len(t) // 50, 1)\n",
    "    f1_pas = np.asarray([f1_pa(label, scores, th) for th in t[::step]])\n",
    "    f1pat = f1_pa(label, scores, t[idx])\n",
    "    f1pa = np.nanmax(f1_pas)\n",
    "    return i, j, k, f1[idx], f1pat, f1pa\n",
    "\n",
    "\n",
    "## No need to rerun as results are already computed\n",
    "\n",
    "# with Pool(processes=30) as pool:\n",
    "#     for i,j,k,f1,f1pat,f1pa in tqdm.tqdm(pool.imap(process_task, configurations), total=len(configurations)):\n",
    "#         f1_scores[i, j, k]=f1\n",
    "#         f1_wo_pa_scores[i, j, k]=f1pat\n",
    "#         f1_pa_scores[i, j, k]=f1pa\n",
    "# np.savez('./results/window_size_experiment_results', f1_scores=f1_scores, f1_wo_pa_scores=f1_wo_pa_scores, f1_pa_scores=f1_pa_scores)\n",
    "\n",
    "## Obtain seasonalities using AutoPeriod\n",
    "\n",
    "# window_ap = np.zeros(len(dataset_names))\n",
    "# for j, fn in enumerate(tqdm.tqdm(dataset_names)):\n",
    "#     train, _, _, _, _, _ = load_dataset(fn)\n",
    "#     window_ap[j] = Autoperiod(np.squeeze(train)).period\n",
    "# np.save('./results/window_size_experiment_autoperiod', window_ap)\n"
   ]
  },
  {
   "cell_type": "code",
   "execution_count": 13,
   "metadata": {},
   "outputs": [],
   "source": [
    "# Read results from previous cell\n",
    "data = np.load('./results/window_size_experiment_results.npz')\n",
    "f1_s, f1_wo_pa, f1_pas = (\n",
    "    data['f1_scores'],\n",
    "    data['f1_wo_pa_scores'],\n",
    "    data['f1_pa_scores'],\n",
    ")\n",
    "\n",
    "# Load AutoPeriod seasonalities\n",
    "dataset_period = np.load('./results/window_size_experiment_autoperiod.npy')\n"
   ]
  },
  {
   "attachments": {},
   "cell_type": "markdown",
   "metadata": {},
   "source": [
    "By training and evaluating the models on datasets using a range of values, a curve of performance can be plotted."
   ]
  },
  {
   "cell_type": "code",
   "execution_count": 14,
   "metadata": {},
   "outputs": [
    {
     "data": {
      "image/png": "[encoded data removed]",
      "text/plain": [
       "<Figure size 578.738x476.906 with 12 Axes>"
      ]
     },
     "metadata": {},
     "output_type": "display_data"
    }
   ],
   "source": [
    "to_label = dict(\n",
    "    knn='k-NN', lof='Local Outlier Factor', isoforest='Isolation Forest'\n",
    ")\n",
    "\n",
    "# Hand picked indexes for visualization\n",
    "idxs = [0, 2, 4, 8]\n",
    "dtst = [dataset_names[i] for i in idxs]\n",
    "\n",
    "fig, axs = plt.subplots(4, 3, figsize=set_size(subplots=(4, 3)))\n",
    "for i, det in enumerate(detectors):\n",
    "    for j_idx, (j, fn) in enumerate(zip(idxs, dtst)):\n",
    "        fn = fn.split('_')[0] + fn.split('_')[3]\n",
    "        ax = axs[j_idx][i]\n",
    "        ax.plot(window_sizes, f1_s[i, j], label='F1')\n",
    "        ax.plot(window_sizes, f1_pas[i, j], label='F1 Point Adjusted')\n",
    "        ax.axvline(\n",
    "            dataset_period[j],\n",
    "            ls='--',\n",
    "            lw=0.5,\n",
    "            color='black',\n",
    "            label='AutoPeriod seasonality',\n",
    "        )\n",
    "        if j_idx == 3:\n",
    "            ax.set_xlabel('Window size')\n",
    "        ax.set_ylim(0, 1)\n",
    "        ax.set_xlim(0, 512)\n",
    "        if j_idx == 0:\n",
    "            if i == 2:\n",
    "                ax.legend(fontsize=5)\n",
    "            if i == 1:\n",
    "                ax.set_title(f'{to_label[det]}\\n{fn}')\n",
    "            else:\n",
    "                ax.set_title(f'{to_label[det]}\\n')\n",
    "\n",
    "        elif i == 1:\n",
    "            ax.set_title(f'{fn}')\n",
    "    plt.tight_layout()\n",
    "\n",
    "# fig.savefig('./images/window_size_f1.pdf', format='pdf', bbox_inches='tight')\n"
   ]
  },
  {
   "attachments": {},
   "cell_type": "markdown",
   "metadata": {},
   "source": [
    "From the plots, we can see that AutoPeriod seasonalties as window sizes result in to considerably good performance. One could notice that on average a better performance could be obtained if the windows were slightly larger. What would happen if the seasonalities were multiplied by some coefficient."
   ]
  },
  {
   "cell_type": "code",
   "execution_count": 22,
   "metadata": {},
   "outputs": [],
   "source": [
    "max_f1_pas = np.max(f1_pas, axis=2)\n",
    "max_f1_s = np.max(f1_s, axis=2)\n",
    "\n",
    "\n",
    "def evaluate(coef):\n",
    "    \"\"\"\n",
    "    Evaluate performance of models on datasets if all AutoPeriod window sizes\n",
    "    are multiplied by 'coef'.\n",
    "    \"\"\"\n",
    "    dataset_window = dataset_period * coef\n",
    "    f1_idx = [np.abs(window_sizes - n).argmin() for n in dataset_window]\n",
    "\n",
    "    ap_f1_pas = np.zeros_like(max_f1_pas)\n",
    "    ap_f1_s = np.zeros_like(max_f1_s)\n",
    "\n",
    "    for i, idx in enumerate(f1_idx):\n",
    "        ap_f1_pas[:, i] = f1_pas[:, i, idx]\n",
    "        ap_f1_s[:, i] = f1_s[:, i, idx]\n",
    "\n",
    "    ap_mean_f1_s = np.mean(ap_f1_s)\n",
    "    ap_mean_f1_pas = np.mean(ap_f1_pas)\n",
    "    rel1 = np.mean(ap_f1_s / max_f1_s)\n",
    "    rel2 = np.mean(ap_f1_pas / max_f1_pas)\n",
    "\n",
    "    return ap_mean_f1_s, ap_mean_f1_pas, rel1, rel2\n"
   ]
  },
  {
   "cell_type": "code",
   "execution_count": 23,
   "metadata": {},
   "outputs": [
    {
     "name": "stdout",
     "output_type": "stream",
     "text": [
      "1.5909090909090908 0.48021128849647904\n"
     ]
    },
    {
     "data": {
      "image/png": "[encoded data removed]",
      "text/plain": [
       "<Figure size 578.738x357.68 with 1 Axes>"
      ]
     },
     "metadata": {},
     "output_type": "display_data"
    }
   ],
   "source": [
    "coefs = np.linspace(0.5, 5, 100)\n",
    "cs = []\n",
    "f1s = []\n",
    "f1pas = []\n",
    "\n",
    "# Evaluate on coefs\n",
    "for c in coefs:\n",
    "    ap_mean_f1_s, ap_mean_f1_pas, _, _ = evaluate(c)\n",
    "    cs.append(c)\n",
    "    f1s.append(ap_mean_f1_s)\n",
    "    f1pas.append(ap_mean_f1_pas)\n",
    "\n",
    "idx = np.nanargmax(f1s)\n",
    "best_c = cs[idx]\n",
    "best_f1 = f1s[idx]\n",
    "print(best_c, best_f1)\n",
    "\n",
    "fig, axs = plt.subplots(1, 1, figsize=set_size(subplots=(1, 1)))\n",
    "axs.plot(cs, f1s, label='F1')\n",
    "axs.plot(cs, f1pas, label='F1 Point Adjusted')\n",
    "axs.set_xlabel('Multiplication coefficient $a$')\n",
    "axs.vlines(\n",
    "    best_c,\n",
    "    0,\n",
    "    1,\n",
    "    linestyles='--',\n",
    "    color='red',\n",
    "    linewidth=0.5,\n",
    "    label='Best constant w.r.t. F1',\n",
    ")\n",
    "axs.vlines(\n",
    "    1, 0, 1, linestyles='--', color='grey', linewidth=0.7, label='Default'\n",
    ")\n",
    "axs.legend()\n",
    "plt.tight_layout()\n",
    "\n",
    "# fig.savefig('./images/window_size_f1_a.pdf', format='pdf', bbox_inches='tight')\n"
   ]
  },
  {
   "cell_type": "code",
   "execution_count": 28,
   "metadata": {},
   "outputs": [
    {
     "name": "stdout",
     "output_type": "stream",
     "text": [
      "Window size: 16.0\n",
      "Mean F1: 0.34234452381740993\n",
      "Mean F1 of [k-NN, LOF, IF] = [0.46578643 0.46680993 0.09443721]\n",
      "Window size: 32.0\n",
      "Mean F1: 0.40297529912163044\n",
      "Mean F1 of [k-NN, LOF, IF] = [0.58106028 0.5780393  0.04982631]\n",
      "Window size: 64.0\n",
      "Mean F1: 0.43488155633258224\n",
      "Mean F1 of [k-NN, LOF, IF] = [0.61172047 0.63631079 0.0566134 ]\n",
      "Window size: 128.0\n",
      "Mean F1: 0.3876786560418222\n",
      "Mean F1 of [k-NN, LOF, IF] = [0.49990792 0.59007066 0.07305738]\n"
     ]
    }
   ],
   "source": [
    "for size in [16.0, 32.0, 64.0, 128.0]:\n",
    "    dataset_window = np.array([size] * 10)\n",
    "    f1_idx = [np.abs(window_sizes - n).argmin() for n in dataset_window]\n",
    "\n",
    "    ap_f1_pas = np.zeros_like(max_f1_pas)\n",
    "    ap_f1_s = np.zeros_like(max_f1_s)\n",
    "\n",
    "    for i, idx in enumerate(f1_idx):\n",
    "        ap_f1_pas[:, i] = f1_pas[:, i, idx]\n",
    "        ap_f1_s[:, i] = f1_s[:, i, idx]\n",
    "\n",
    "    ap_mean_f1_s = np.mean(ap_f1_s)\n",
    "    ap_mean_f1_pas = np.mean(ap_f1_pas)\n",
    "    rel1 = np.mean(ap_f1_s / max_f1_s)\n",
    "    rel2 = np.mean(ap_f1_pas / max_f1_pas)\n",
    "\n",
    "    print(f'Window size: {size}')\n",
    "    print(f'Mean F1: {np.mean(ap_f1_s)}')\n",
    "    print(f'Mean F1 of [k-NN, LOF, IF] = {np.mean(ap_f1_s, axis=1)}')\n"
   ]
  },
  {
   "cell_type": "code",
   "execution_count": 20,
   "metadata": {},
   "outputs": [
    {
     "name": "stdout",
     "output_type": "stream",
     "text": [
      "Mean dataset period: 68.7\n"
     ]
    }
   ],
   "source": [
    "print(f'Mean dataset period: {np.mean(dataset_period)}')\n"
   ]
  },
  {
   "attachments": {},
   "cell_type": "markdown",
   "metadata": {},
   "source": [
    "Default performance of models with coef of 1"
   ]
  },
  {
   "cell_type": "code",
   "execution_count": 25,
   "metadata": {},
   "outputs": [
    {
     "name": "stdout",
     "output_type": "stream",
     "text": [
      "Mean F1: 0.4432790054648529\n",
      "Mean F1 of [k-NN, LOF, IF] = [0.60218695 0.61888692 0.10876315]\n"
     ]
    }
   ],
   "source": [
    "dataset_window = dataset_period * 1\n",
    "f1_idx = [np.abs(window_sizes - n).argmin() for n in dataset_window]\n",
    "\n",
    "ap_f1_pas = np.zeros_like(max_f1_pas)\n",
    "ap_f1_s = np.zeros_like(max_f1_s)\n",
    "\n",
    "for i, idx in enumerate(f1_idx):\n",
    "    ap_f1_pas[:, i] = f1_pas[:, i, idx]\n",
    "    ap_f1_s[:, i] = f1_s[:, i, idx]\n",
    "\n",
    "ap_mean_f1_s = np.mean(ap_f1_s)\n",
    "ap_mean_f1_pas = np.mean(ap_f1_pas)\n",
    "rel1 = np.mean(ap_f1_s / max_f1_s)\n",
    "rel2 = np.mean(ap_f1_pas / max_f1_pas)\n",
    "\n",
    "print(f'Mean F1: {np.mean(ap_f1_s)}')\n",
    "print(f'Mean F1 of [k-NN, LOF, IF] = {np.mean(ap_f1_s, axis=1)}')\n"
   ]
  },
  {
   "attachments": {},
   "cell_type": "markdown",
   "metadata": {},
   "source": [
    "Performance of models with best coefficient"
   ]
  },
  {
   "cell_type": "code",
   "execution_count": 26,
   "metadata": {},
   "outputs": [
    {
     "name": "stdout",
     "output_type": "stream",
     "text": [
      "Mean F1: 0.48021128849647904\n",
      "Mean F1 of [k-NN, LOF, IF] = [0.65035861 0.66434194 0.12593332]\n"
     ]
    }
   ],
   "source": [
    "dataset_window = dataset_period * 1.59\n",
    "f1_idx = [np.abs(window_sizes - n).argmin() for n in dataset_window]\n",
    "\n",
    "ap_f1_pas = np.zeros_like(max_f1_pas)\n",
    "ap_f1_s = np.zeros_like(max_f1_s)\n",
    "\n",
    "for i, idx in enumerate(f1_idx):\n",
    "    ap_f1_pas[:, i] = f1_pas[:, i, idx]\n",
    "    ap_f1_s[:, i] = f1_s[:, i, idx]\n",
    "\n",
    "ap_mean_f1_s = np.mean(ap_f1_s)\n",
    "ap_mean_f1_pas = np.mean(ap_f1_pas)\n",
    "rel1 = np.mean(ap_f1_s / max_f1_s)\n",
    "rel2 = np.mean(ap_f1_pas / max_f1_pas)\n",
    "\n",
    "print(f'Mean F1: {np.mean(ap_f1_s)}')\n",
    "print(f'Mean F1 of [k-NN, LOF, IF] = {np.mean(ap_f1_s, axis=1)}')\n"
   ]
  },
  {
   "attachments": {},
   "cell_type": "markdown",
   "metadata": {},
   "source": [
    "Maximum performance of models"
   ]
  },
  {
   "cell_type": "code",
   "execution_count": 27,
   "metadata": {},
   "outputs": [
    {
     "name": "stdout",
     "output_type": "stream",
     "text": [
      "Mean F1: 0.5381219312171103\n",
      "Mean F1 of [k-NN, LOF, IF] = [0.69782094 0.69961553 0.21692933]\n"
     ]
    }
   ],
   "source": [
    "print(f'Mean F1: {np.mean(max_f1_s)}')\n",
    "print(f'Mean F1 of [k-NN, LOF, IF] = {np.mean(max_f1_s, axis=1)}')\n"
   ]
  },
  {
   "attachments": {},
   "cell_type": "markdown",
   "metadata": {},
   "source": [
    "### Compute periods for the rest of the datasets"
   ]
  },
  {
   "cell_type": "code",
   "execution_count": 11,
   "metadata": {},
   "outputs": [],
   "source": [
    "# UCR Datasets\n",
    "\n",
    "with open('data/train.txt') as f:\n",
    "    train = f.readlines()\n",
    "\n",
    "with open('data/test.txt') as f:\n",
    "    test = f.readlines()\n",
    "\n",
    "files = train + test\n",
    "\n",
    "\n",
    "def task(file):\n",
    "    start, a_start, a_end = [\n",
    "        int(i) for i in file.split('.')[0].split('_')[-3:]\n",
    "    ]\n",
    "    file = file.strip('\\n')\n",
    "    ts = np.loadtxt(f'./data/datasets/{file}')\n",
    "    traints = ts[:start]\n",
    "    train_period = Autoperiod(traints).period\n",
    "    train_period = train_period if train_period else 32\n",
    "    train_period = train_period if train_period < 512 else 512\n",
    "    train_period = train_period if train_period > 8 else 8\n",
    "    period = Autoperiod(ts).period\n",
    "    return file, train_period, period\n",
    "\n",
    "\n",
    "# No need to run again\n",
    "\n",
    "# periods = []\n",
    "# with Pool(processes=40) as pool:\n",
    "#     results = list(tqdm.tqdm(pool.imap(task, files), total=len(files)))\n",
    "\n",
    "# with open('./data/period.txt','w') as f:\n",
    "#     for r in results:\n",
    "#         f.write(f'{r[0]}, {r[1]}, {r[2]}\\n')\n"
   ]
  },
  {
   "cell_type": "code",
   "execution_count": 2,
   "metadata": {},
   "outputs": [
    {
     "name": "stderr",
     "output_type": "stream",
     "text": [
      "100%|██████████| 25/25 [00:21<00:00,  1.17it/s]\n"
     ]
    }
   ],
   "source": [
    "# NAB Datasets\n",
    "\n",
    "path = './data/datasets/numenta'\n",
    "files = [\n",
    "    f\n",
    "    for f in os.listdir(path)\n",
    "    if os.path.isfile(os.path.join(path, f)) and f.endswith('.csv')\n",
    "]\n",
    "\n",
    "\n",
    "def task(f):\n",
    "    ts = pd.read_csv(f'./data/datasets/numenta/{f}')['value'].values\n",
    "    ts = ts[: len(ts) // 2]\n",
    "    train_period = Autoperiod(ts).period\n",
    "    train_period = train_period if train_period else 32\n",
    "    train_period = train_period if train_period < 512 else 512\n",
    "    train_period = train_period if train_period > 8 else 8\n",
    "    return f, train_period\n",
    "\n",
    "\n",
    "# No need to rerun\n",
    "\n",
    "# periods = []\n",
    "\n",
    "# with Pool(processes=30) as pool:\n",
    "#     results = list(tqdm.tqdm(pool.imap(task, files), total=len(files)))\n",
    "\n",
    "# with open('./data/numenta_period.txt', 'w') as f:\n",
    "#     for r in results:\n",
    "#         f.write(f'{r[0]}, {r[1]}\\n')\n"
   ]
  },
  {
   "attachments": {},
   "cell_type": "markdown",
   "metadata": {},
   "source": [
    "The computed seasonalities are used as window sizes for all other experiments."
   ]
  }
 ],
 "metadata": {
  "kernelspec": {
   "display_name": "automltsad-m3CR1GKj-py3.10",
   "language": "python",
   "name": "python3"
  },
  "language_info": {
   "codemirror_mode": {
    "name": "ipython",
    "version": 3
   },
   "file_extension": ".py",
   "mimetype": "text/x-python",
   "name": "python",
   "nbconvert_exporter": "python",
   "pygments_lexer": "ipython3",
   "version": "3.10.2 (main, Mar 30 2022, 15:42:06) [GCC 7.5.0]"
  },
  "orig_nbformat": 4,
  "vscode": {
   "interpreter": {
    "hash": "753c5367c7457dfba345b6d1c78053c473309d2e4cf887d946f7023df441abb4"
   }
  }
 },
 "nbformat": 4,
 "nbformat_minor": 2
}
