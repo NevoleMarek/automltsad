{
 "cells": [
  {
   "attachments": {},
   "cell_type": "markdown",
   "metadata": {},
   "source": [
    "# NAB Results exploration\n",
    "\n",
    "This notebook is created for the reasons of analysis of results of unsupervised pipeline experiments on NAB datasets."
   ]
  },
  {
   "cell_type": "code",
   "execution_count": 1,
   "metadata": {},
   "outputs": [],
   "source": [
    "from joblib import load\n",
    "import json\n",
    "import os\n",
    "import yaml\n",
    "\n",
    "from config import (\n",
    "    MODEL_DIR,\n",
    "    CONFIG_DIR,\n",
    "    DATASET_DIR,\n",
    "    TRAIN_DATASETS,\n",
    "    TEST_DATASETS\n",
    ")\n",
    "from latex_figures import (\n",
    "    set_size\n",
    ")\n",
    "from utils import (\n",
    "    get_yaml_config,\n",
    "    read_file\n",
    ")\n",
    "\n",
    "import matplotlib.pyplot as plt\n",
    "import numpy as np\n",
    "import pandas as pd\n",
    "import seaborn as sns\n",
    "\n",
    "%load_ext autoreload\n",
    "%autoreload 2\n",
    "\n",
    "%matplotlib inline\n",
    "\n",
    "tex_fonts = {\n",
    "    \"text.usetex\": True,\n",
    "    \"font.family\": \"serif\",\n",
    "    \"axes.labelsize\": 10,\n",
    "    \"font.size\": 10,\n",
    "    \"legend.fontsize\": 8,\n",
    "    \"xtick.labelsize\": 8,\n",
    "    \"ytick.labelsize\": 8\n",
    "}\n",
    "\n",
    "plt.style.use('seaborn-v0_8-paper')\n",
    "plt.rcParams.update(tex_fonts)"
   ]
  },
  {
   "cell_type": "code",
   "execution_count": 2,
   "metadata": {},
   "outputs": [],
   "source": [
    "\n",
    "\n",
    "EXPERIMENTS = [\n",
    "    'unsupervised',\n",
    "    'unsupervised_ae',\n",
    "    'unsupervised_aev2',\n",
    "    'unsupervised_vaev2',\n",
    "]\n",
    "metrics = ['em', 'mv']\n",
    "\n",
    "detectors_dict = {\n",
    "    'knn': 'k-NN',\n",
    "    'lof': 'LOF',\n",
    "    'isoforest': 'IF',\n",
    "    'ocsvm': 'OCSVM',\n",
    "    'dwtmlead': 'DWTMLEAD',\n",
    "    'vae': 'VAE',\n",
    "    'lstmae': 'LSTM EncDec',\n",
    "    'tranad': 'TranAD',\n",
    "    'gta': 'GTA',\n",
    "}\n",
    "experiments_dict = {\n",
    "    'unsupervised': 'US',\n",
    "    'unsupervised_ae': 'EUS',\n",
    "    'unsupervised_aev2': 'EUS-AE',\n",
    "    'unsupervised_vae': 'EUSv',\n",
    "    'unsupervised_vaev2': 'EUS-VAE',\n",
    "}\n",
    "\n"
   ]
  },
  {
   "attachments": {},
   "cell_type": "markdown",
   "metadata": {},
   "source": [
    "## Baseline\n",
    "This experiment serves as a baseline for other experiments.\n",
    "\n",
    "Key features:\n",
    "* Completely unsupervised\n",
    "* No AutoML used\n",
    "* Default parameters of anomaly detectors used for learning"
   ]
  },
  {
   "cell_type": "code",
   "execution_count": 3,
   "metadata": {},
   "outputs": [
    {
     "data": {
      "text/html": [
       "<div>\n",
       "<style scoped>\n",
       "    .dataframe tbody tr th:only-of-type {\n",
       "        vertical-align: middle;\n",
       "    }\n",
       "\n",
       "    .dataframe tbody tr th {\n",
       "        vertical-align: top;\n",
       "    }\n",
       "\n",
       "    .dataframe thead th {\n",
       "        text-align: right;\n",
       "    }\n",
       "</style>\n",
       "<table border=\"1\" class=\"dataframe\">\n",
       "  <thead>\n",
       "    <tr style=\"text-align: right;\">\n",
       "      <th></th>\n",
       "      <th>detector</th>\n",
       "      <th>dataset</th>\n",
       "      <th>f1</th>\n",
       "      <th>f1_pa_auc</th>\n",
       "      <th>f1_pa</th>\n",
       "      <th>f1_pa_ts_auc</th>\n",
       "      <th>aucpr</th>\n",
       "      <th>aucroc</th>\n",
       "      <th>time</th>\n",
       "      <th>exp</th>\n",
       "    </tr>\n",
       "  </thead>\n",
       "  <tbody>\n",
       "    <tr>\n",
       "      <th>0</th>\n",
       "      <td>k-NN</td>\n",
       "      <td>exchange-2_cpm_results.csv</td>\n",
       "      <td>0.515789</td>\n",
       "      <td>0.626761</td>\n",
       "      <td>1.000000</td>\n",
       "      <td>0.355495</td>\n",
       "      <td>0.498872</td>\n",
       "      <td>0.782667</td>\n",
       "      <td>0.529049</td>\n",
       "      <td>Base</td>\n",
       "    </tr>\n",
       "    <tr>\n",
       "      <th>1</th>\n",
       "      <td>k-NN</td>\n",
       "      <td>exchange-3_cpc_results.csv</td>\n",
       "      <td>0.666667</td>\n",
       "      <td>0.740789</td>\n",
       "      <td>1.000000</td>\n",
       "      <td>0.222727</td>\n",
       "      <td>0.599853</td>\n",
       "      <td>0.915104</td>\n",
       "      <td>0.517097</td>\n",
       "      <td>Base</td>\n",
       "    </tr>\n",
       "    <tr>\n",
       "      <th>2</th>\n",
       "      <td>k-NN</td>\n",
       "      <td>exchange-4_cpc_results.csv</td>\n",
       "      <td>0.576923</td>\n",
       "      <td>0.717461</td>\n",
       "      <td>1.000000</td>\n",
       "      <td>0.541045</td>\n",
       "      <td>0.647697</td>\n",
       "      <td>0.936728</td>\n",
       "      <td>0.648244</td>\n",
       "      <td>Base</td>\n",
       "    </tr>\n",
       "    <tr>\n",
       "      <th>3</th>\n",
       "      <td>k-NN</td>\n",
       "      <td>exchange-4_cpm_results.csv</td>\n",
       "      <td>0.860465</td>\n",
       "      <td>0.893440</td>\n",
       "      <td>1.000000</td>\n",
       "      <td>0.927026</td>\n",
       "      <td>0.951986</td>\n",
       "      <td>0.994289</td>\n",
       "      <td>0.470886</td>\n",
       "      <td>Base</td>\n",
       "    </tr>\n",
       "    <tr>\n",
       "      <th>4</th>\n",
       "      <td>k-NN</td>\n",
       "      <td>ec2_cpu_utilization_5f5533.csv</td>\n",
       "      <td>0.183655</td>\n",
       "      <td>0.183613</td>\n",
       "      <td>0.995025</td>\n",
       "      <td>0.164635</td>\n",
       "      <td>0.147491</td>\n",
       "      <td>0.443007</td>\n",
       "      <td>0.768820</td>\n",
       "      <td>Base</td>\n",
       "    </tr>\n",
       "  </tbody>\n",
       "</table>\n",
       "</div>"
      ],
      "text/plain": [
       "  detector                         dataset        f1  f1_pa_auc     f1_pa  \\\n",
       "0     k-NN      exchange-2_cpm_results.csv  0.515789   0.626761  1.000000   \n",
       "1     k-NN      exchange-3_cpc_results.csv  0.666667   0.740789  1.000000   \n",
       "2     k-NN      exchange-4_cpc_results.csv  0.576923   0.717461  1.000000   \n",
       "3     k-NN      exchange-4_cpm_results.csv  0.860465   0.893440  1.000000   \n",
       "4     k-NN  ec2_cpu_utilization_5f5533.csv  0.183655   0.183613  0.995025   \n",
       "\n",
       "   f1_pa_ts_auc     aucpr    aucroc      time   exp  \n",
       "0      0.355495  0.498872  0.782667  0.529049  Base  \n",
       "1      0.222727  0.599853  0.915104  0.517097  Base  \n",
       "2      0.541045  0.647697  0.936728  0.648244  Base  \n",
       "3      0.927026  0.951986  0.994289  0.470886  Base  \n",
       "4      0.164635  0.147491  0.443007  0.768820  Base  "
      ]
     },
     "execution_count": 3,
     "metadata": {},
     "output_type": "execute_result"
    }
   ],
   "source": [
    "# Read results\n",
    "baseline_df = pd.read_csv(\n",
    "    './results/numenta_baseline_results.csv', sep=',', header=0\n",
    ")\n",
    "baseline_df['detector'] = baseline_df['detector'].map(detectors_dict)\n",
    "baseline_df['exp'] = 'Base'\n",
    "baseline_df.head()"
   ]
  },
  {
   "attachments": {},
   "cell_type": "markdown",
   "metadata": {},
   "source": [
    "Plot baseline results"
   ]
  },
  {
   "cell_type": "code",
   "execution_count": 4,
   "metadata": {},
   "outputs": [
    {
     "data": {
      "image/png": "[encoded data removed]",
      "text/plain": [
       "<Figure size 578.738x357.68 with 4 Axes>"
      ]
     },
     "metadata": {},
     "output_type": "display_data"
    }
   ],
   "source": [
    "fig, axs = plt.subplots(2, 2, figsize=set_size(subplots=(2, 2)))\n",
    "to_label = dict(\n",
    "    f1='F1', f1_pa='F1 Point adjusted', aucpr='AUC PR', aucroc='AUC ROC'\n",
    ")\n",
    "for i, y in enumerate(['f1', 'f1_pa', 'aucpr', 'aucroc']):\n",
    "    ax = axs[i // 2][i % 2]\n",
    "\n",
    "    order = (\n",
    "        baseline_df.groupby(by=['detector'])[y]\n",
    "        .median()\n",
    "        .sort_values(ascending=False)\n",
    "        .index.tolist()\n",
    "    )\n",
    "\n",
    "    ax = sns.boxplot(\n",
    "        data=baseline_df,\n",
    "        y=y,\n",
    "        x='detector',\n",
    "        ax=ax,\n",
    "        order=order,\n",
    "        linewidth=1,\n",
    "        width=0.7,\n",
    "        color='lightblue',\n",
    "        showmeans=True,\n",
    "        meanprops={\n",
    "            'marker': '^',\n",
    "            'markerfacecolor': 'black',\n",
    "            'markeredgecolor': 'black',\n",
    "            'markersize': '4',\n",
    "        },\n",
    "    )\n",
    "    ax.set(title=to_label[y])\n",
    "    ax.set_ylabel('')\n",
    "    ax.set_xlabel('')\n",
    "\n",
    "    ax.set_xticklabels(\n",
    "        ax.get_xticklabels(), rotation=30, horizontalalignment='right'\n",
    "    )\n",
    "\n",
    "plt.tight_layout()\n",
    "plt.show()\n",
    "# fig.savefig('images/numenta_baseline.pdf', format='pdf', bbox_inches='tight')\n"
   ]
  },
  {
   "attachments": {},
   "cell_type": "markdown",
   "metadata": {},
   "source": [
    "## AutoML using unsupervised metrics\n",
    "\n",
    "This section is mainly focused on Mass volume and Excess mass metrics.\n",
    "\n",
    "Experiments from now on are evaluated only with F1 score and AUC PR as AUC ROC\n",
    "isn't as informative as AUC-PR for this task and point\n",
    "adjusted evaluation scheme isn't used as it has been shown it can overestimate\n",
    "performance of detectors.\n",
    "\n",
    "Key features:\n",
    "\n",
    "* Mass volume and Excess mass metrics used to tune hyperparameters\n",
    "\n",
    "Research questions: \n",
    "\n",
    "* Is one superior to another in our results?\n",
    "* Do they actually work for time series?\n",
    "* Can they be used to compare between detectors?\n",
    "\n"
   ]
  },
  {
   "cell_type": "code",
   "execution_count": 5,
   "metadata": {},
   "outputs": [],
   "source": [
    "# Read results\n",
    "with open('./data/datasets/numenta/combined_labels.json', 'r') as f:\n",
    "    labels = json.load(f)\n",
    "\n",
    "path = 'data/datasets/numenta'\n",
    "datasets = [\n",
    "    f\n",
    "    for f in os.listdir(path)\n",
    "    if os.path.isfile(os.path.join(path, f)) and f.endswith('.csv')\n",
    "]\n",
    "\n",
    "dataframes = []\n",
    "for exp in EXPERIMENTS:\n",
    "    detectors = get_yaml_config('./config/' + exp)['detectors']\n",
    "\n",
    "    records = []\n",
    "    for d in detectors:\n",
    "        for m in metrics:\n",
    "            for dt in datasets:\n",
    "                with open(f'./model/{d}/numenta_{exp}/{dt}/{m}.yaml') as f:\n",
    "                    r = yaml.unsafe_load(f)\n",
    "                    r['detector'] = detectors_dict[d]\n",
    "                    r['metric_value'] = r.pop('metric')\n",
    "                    r['metric'] = 'EM' if m == 'em' else 'MV'\n",
    "                    r['dataset'] = dt\n",
    "                    r['exp'] = experiments_dict[exp]\n",
    "                    records.append(r)\n",
    "    dataframes.append(pd.DataFrame.from_records(records))\n",
    "\n",
    "us1_df = dataframes[0]  # unsupervised default experiment\n",
    "us2_df = dataframes[1]  # unsupervised default experiment\n",
    "us3_df = dataframes[2]  # unsupervised autoencoder within the metric\n",
    "us5_df = dataframes[3]  # unsupervised vae within the metric\n"
   ]
  },
  {
   "attachments": {},
   "cell_type": "markdown",
   "metadata": {},
   "source": [
    "Comparison of MV and EM metrics on individual models of US pipeline"
   ]
  },
  {
   "cell_type": "code",
   "execution_count": 6,
   "metadata": {},
   "outputs": [
    {
     "data": {
      "image/png": "[encoded data removed]",
      "text/plain": [
       "<Figure size 578.738x178.84 with 2 Axes>"
      ]
     },
     "metadata": {},
     "output_type": "display_data"
    }
   ],
   "source": [
    "fig, axs = plt.subplots(1, 2, figsize=set_size(subplots=(1, 2)))\n",
    "for i, y in enumerate(['f1', 'aucpr']):\n",
    "    ax = axs[i]\n",
    "    order = (\n",
    "        us1_df.groupby(by=['detector'])[y]\n",
    "        .median()\n",
    "        .sort_values(ascending=False)\n",
    "        .index.tolist()\n",
    "    )\n",
    "    ax = sns.boxplot(\n",
    "        data=us1_df,\n",
    "        y=y,\n",
    "        x='detector',\n",
    "        hue='metric',\n",
    "        ax=ax,\n",
    "        order=order,\n",
    "        linewidth=1,\n",
    "        width=0.7,\n",
    "        color='lightblue',\n",
    "        showmeans=True,\n",
    "        meanprops={\n",
    "            'marker': '^',\n",
    "            'markerfacecolor': 'black',\n",
    "            'markeredgecolor': 'black',\n",
    "            'markersize': '4',\n",
    "        },\n",
    "    )\n",
    "    ax.set(title=to_label[y])\n",
    "    ax.set_ylabel('')\n",
    "    ax.set_xlabel('')\n",
    "    if i != 1:\n",
    "        ax.legend([])\n",
    "sns.move_legend(axs[1], 'upper left', bbox_to_anchor=(1, 1))\n",
    "\n",
    "plt.tight_layout()\n",
    "plt.show()\n",
    "# fig.savefig('images/numenta_us1.pdf', format='pdf', bbox_inches='tight')\n"
   ]
  },
  {
   "attachments": {},
   "cell_type": "markdown",
   "metadata": {},
   "source": [
    "Comparison of metrics across all models"
   ]
  },
  {
   "cell_type": "code",
   "execution_count": 7,
   "metadata": {},
   "outputs": [
    {
     "name": "stderr",
     "output_type": "stream",
     "text": [
      "/tmp/ipykernel_3023381/3428329742.py:2: FutureWarning: The default value of numeric_only in DataFrameGroupBy.median is deprecated. In a future version, numeric_only will default to False. Either specify numeric_only or select only columns which should be valid for the function.\n",
      "  d = us1_df.groupby(['metric', 'dataset']).median()\n"
     ]
    },
    {
     "data": {
      "image/png": "[encoded data removed]",
      "text/plain": [
       "<Figure size 578.738x178.84 with 2 Axes>"
      ]
     },
     "metadata": {},
     "output_type": "display_data"
    }
   ],
   "source": [
    "fig, axs = plt.subplots(1, 2, figsize=set_size(subplots=(1, 2)))\n",
    "d = us1_df.groupby(['metric', 'dataset']).median()\n",
    "ax = sns.boxplot(\n",
    "    data=d.reset_index(),\n",
    "    y='f1',\n",
    "    x='metric',\n",
    "    color='lightblue',\n",
    "    ax=axs[1],\n",
    "    linewidth=1,\n",
    "    width=0.7,\n",
    "    showmeans=True,\n",
    "    meanprops={\n",
    "        'marker': '^',\n",
    "        'markerfacecolor': 'black',\n",
    "        'markeredgecolor': 'black',\n",
    "        'markersize': '4',\n",
    "    },\n",
    ")\n",
    "ax.set_xlabel('F1')\n",
    "ax.set_ylabel('')\n",
    "ax = sns.boxplot(\n",
    "    data=d.reset_index(),\n",
    "    y='aucpr',\n",
    "    x='metric',\n",
    "    color='lightblue',\n",
    "    ax=axs[0],\n",
    "    linewidth=1,\n",
    "    width=0.7,\n",
    "    showmeans=True,\n",
    "    meanprops={\n",
    "        'marker': '^',\n",
    "        'markerfacecolor': 'black',\n",
    "        'markeredgecolor': 'black',\n",
    "        'markersize': '4',\n",
    "    },\n",
    ")\n",
    "ax.set_xlabel('AUC PR')\n",
    "ax.set_ylabel('')\n",
    "plt.show()\n",
    "# fig.savefig('images/numenta_metrics.pdf', format='pdf', bbox_inches='tight')\n"
   ]
  },
  {
   "attachments": {},
   "cell_type": "markdown",
   "metadata": {},
   "source": [
    "Nearly 9% gain on F1 score and ~3% gain on AUCPR in median value. Nevertheless, the difference is insignificant and for the reason of similarity only MV is showed for the rest of visualizations."
   ]
  },
  {
   "cell_type": "code",
   "execution_count": 8,
   "metadata": {},
   "outputs": [
    {
     "name": "stdout",
     "output_type": "stream",
     "text": [
      "1.0933240128940913\n",
      "1.0313635422877252\n"
     ]
    }
   ],
   "source": [
    "print(d.loc['MV', 'f1'].median() / d.loc['EM', 'f1'].median())\n",
    "print(d.loc['MV', 'aucpr'].median() / d.loc['EM', 'aucpr'].median())\n"
   ]
  },
  {
   "attachments": {},
   "cell_type": "markdown",
   "metadata": {},
   "source": [
    "#### Comparison against baseline\n",
    "\n",
    "Limitation of these metrics is that they use MC simulation to compute Lebesgue integral therefore the dimension of input data can't be to high due to limited computational power."
   ]
  },
  {
   "cell_type": "code",
   "execution_count": 9,
   "metadata": {},
   "outputs": [
    {
     "data": {
      "image/png": "[encoded data removed]",
      "text/plain": [
       "<Figure size 578.738x178.84 with 2 Axes>"
      ]
     },
     "metadata": {},
     "output_type": "display_data"
    }
   ],
   "source": [
    "tmp_df = pd.concat([baseline_df, us1_df[us1_df['metric'] == 'MV']])\n",
    "to_label = dict(\n",
    "    f1='F1', f1_pa='F1 Point adjusted', aucpr='AUC PR', aucroc='AUC ROC'\n",
    ")\n",
    "fig, axs = plt.subplots(1, 2, figsize=set_size(subplots=(1, 2)))\n",
    "for i, y in enumerate(['f1', 'aucpr']):\n",
    "    ax = axs[i]\n",
    "    ax = sns.boxplot(\n",
    "        data=tmp_df,\n",
    "        y=y,\n",
    "        x='detector',\n",
    "        hue='exp',\n",
    "        ax=ax,\n",
    "        order=order,\n",
    "        linewidth=1,\n",
    "        width=0.7,\n",
    "        color='lightblue',\n",
    "        showmeans=True,\n",
    "        meanprops={\n",
    "            'marker': '^',\n",
    "            'markerfacecolor': 'black',\n",
    "            'markeredgecolor': 'black',\n",
    "            'markersize': '4',\n",
    "        },\n",
    "    )\n",
    "    ax.set(title=to_label[y])\n",
    "    ax.set_ylabel('')\n",
    "    ax.set_xlabel('')\n",
    "    if i != 1:\n",
    "        ax.legend([])\n",
    "sns.move_legend(axs[1], 'upper left', bbox_to_anchor=(1, 1))\n",
    "plt.tight_layout()\n",
    "plt.show()\n",
    "# fig.savefig(\n",
    "#     'images/numenta_base_us1_comparison.pdf', format='pdf', bbox_inches='tight'\n",
    "# )\n"
   ]
  },
  {
   "attachments": {},
   "cell_type": "markdown",
   "metadata": {},
   "source": [
    "Now, we look at model selection performance using the unsupervised metrics."
   ]
  },
  {
   "cell_type": "code",
   "execution_count": 10,
   "metadata": {},
   "outputs": [],
   "source": [
    "def select_best_model(keys, group):\n",
    "    if keys[0] == 'MV':\n",
    "        best_m = group['metric_value'].argmin()\n",
    "    else:\n",
    "        best_m = group['metric_value'].argmax()\n",
    "    best_pr = group['aucpr'].argmax()\n",
    "    best_f1 = group['f1'].argmax()\n",
    "    return pd.Series(\n",
    "        {\n",
    "            'best_wrt_metric': group.iloc[best_m]['detector'],\n",
    "            'best_aucpr_wrt_metric': group.iloc[best_m]['aucpr'],\n",
    "            'best_wrt_aucpr': group.iloc[best_pr]['detector'],\n",
    "            'best_aucpr': group.iloc[best_pr]['aucpr'],\n",
    "            'same': best_m == best_pr,\n",
    "        }\n",
    "    )\n",
    "\n",
    "\n",
    "r = us1_df.groupby(['metric', 'dataset']).apply(\n",
    "    lambda x: select_best_model(x.name, x)\n",
    ")\n"
   ]
  },
  {
   "cell_type": "code",
   "execution_count": 11,
   "metadata": {},
   "outputs": [
    {
     "data": {
      "text/plain": [
       "[Text(0, 0, 'Best AUCPR w.r.t. metric'), Text(1, 0, 'Best AUCPR')]"
      ]
     },
     "execution_count": 11,
     "metadata": {},
     "output_type": "execute_result"
    },
    {
     "data": {
      "image/png": "[encoded data removed]",
      "text/plain": [
       "<Figure size 578.738x357.68 with 1 Axes>"
      ]
     },
     "metadata": {},
     "output_type": "display_data"
    }
   ],
   "source": [
    "r_tmp = pd.melt(\n",
    "    r.reset_index(),\n",
    "    value_vars=['best_aucpr_wrt_metric', 'best_aucpr'],\n",
    "    id_vars=['metric'],\n",
    ")\n",
    "fig, axs = plt.subplots(1, 1, figsize=set_size(subplots=(1, 1)))\n",
    "ax = sns.boxplot(\n",
    "    data=r_tmp,\n",
    "    x='variable',\n",
    "    y='value',\n",
    "    hue='metric',\n",
    "    color='lightblue',\n",
    "    linewidth=1,\n",
    "    width=0.7,\n",
    "    ax=axs,\n",
    "    showmeans=True,\n",
    "    meanprops={\n",
    "        'marker': '^',\n",
    "        'markerfacecolor': 'black',\n",
    "        'markeredgecolor': 'black',\n",
    "        'markersize': '4',\n",
    "    },\n",
    ")\n",
    "ax.set_xlabel('')\n",
    "ax.set_ylabel('')\n",
    "ax.set_xticklabels(['Best AUCPR w.r.t. metric', 'Best AUCPR'])\n",
    "# fig.savefig(\n",
    "#     'images/numenta_model_selection_wrt_metrics.pdf',\n",
    "#     format='pdf',\n",
    "#     bbox_inches='tight',\n",
    "# )\n"
   ]
  },
  {
   "attachments": {},
   "cell_type": "markdown",
   "metadata": {},
   "source": [
    "Metrics are unable to recover best models w.r.t. AUC-PR. The result for NAB datasets is even worse than for UCR datasets. Using MV metric values only 2 of 25 times the best model could be recovered."
   ]
  },
  {
   "cell_type": "code",
   "execution_count": 12,
   "metadata": {},
   "outputs": [
    {
     "data": {
      "text/plain": [
       "metric  same \n",
       "EM      False    18\n",
       "        True      7\n",
       "MV      False    23\n",
       "        True      2\n",
       "dtype: int64"
      ]
     },
     "execution_count": 12,
     "metadata": {},
     "output_type": "execute_result"
    }
   ],
   "source": [
    "r.reset_index()[['metric', 'same']].groupby('metric').value_counts()\n"
   ]
  },
  {
   "attachments": {},
   "cell_type": "markdown",
   "metadata": {},
   "source": [
    "#### Comparison of potential US upper bound to baseline"
   ]
  },
  {
   "cell_type": "code",
   "execution_count": 13,
   "metadata": {},
   "outputs": [
    {
     "data": {
      "image/png": "[encoded data removed]",
      "text/plain": [
       "<Figure size 578.738x178.84 with 2 Axes>"
      ]
     },
     "metadata": {},
     "output_type": "display_data"
    }
   ],
   "source": [
    "baseline_df['Experiment'] = 'Base'\n",
    "to_label = dict(\n",
    "    f1='F1', f1_pa='F1 Point adjusted', aucpr='AUC PR', aucroc='AUC ROC'\n",
    ")\n",
    "knn_base = baseline_df[baseline_df['detector'] == 'k-NN']\n",
    "d = us1_df.loc[us1_df.groupby(['metric', 'dataset'])['aucpr'].idxmax()]\n",
    "d = d[d['metric'] == 'MV']\n",
    "tmp_df = pd.concat([knn_base, d])\n",
    "\n",
    "fig, axs = plt.subplots(1, 2, figsize=set_size(subplots=(1, 2)))\n",
    "for i, y in enumerate(['f1', 'aucpr']):\n",
    "    ax = axs[i]\n",
    "\n",
    "    ax = sns.boxplot(\n",
    "        data=tmp_df,\n",
    "        y=y,\n",
    "        x='exp',\n",
    "        ax=ax,\n",
    "        linewidth=1,\n",
    "        width=0.7,\n",
    "        color='lightblue',\n",
    "        showmeans=True,\n",
    "        meanprops={\n",
    "            'marker': '^',\n",
    "            'markerfacecolor': 'black',\n",
    "            'markeredgecolor': 'black',\n",
    "            'markersize': '4',\n",
    "        },\n",
    "        palette={\n",
    "        'US': 'grey',\n",
    "        'Base': 'lightblue',\n",
    "        },\n",
    "    )\n",
    "    ax.set(title=to_label[y])\n",
    "    ax.set_ylabel('')\n",
    "    ax.set_xlabel('')\n",
    "    ax.set_xticklabels(['k-NN', 'Unsupervised upperbound'])\n",
    "#     if i != 1:\n",
    "#         ax.legend([])\n",
    "# sns.move_legend(axs[1], 'upper left', bbox_to_anchor=(1, 1))\n",
    "plt.tight_layout()\n",
    "plt.show()\n",
    "# fig.savefig(\n",
    "#     'images/numenta_base_potential_upperbound.pdf',\n",
    "#     format='pdf',\n",
    "#     bbox_inches='tight',\n",
    "# )\n"
   ]
  },
  {
   "attachments": {},
   "cell_type": "markdown",
   "metadata": {},
   "source": [
    "Performance of EUS pipelines is showed next. "
   ]
  },
  {
   "cell_type": "code",
   "execution_count": 14,
   "metadata": {},
   "outputs": [
    {
     "data": {
      "image/png": "[encoded data removed]",
      "text/plain": [
       "<Figure size 578.738x178.84 with 2 Axes>"
      ]
     },
     "metadata": {},
     "output_type": "display_data"
    }
   ],
   "source": [
    "fig, axs = plt.subplots(1, 2, figsize=set_size(subplots=(1, 2)))\n",
    "for i, y in enumerate(['f1', 'aucpr']):\n",
    "    ax = axs[i]\n",
    "    order = (\n",
    "        us2_df[us2_df['metric'] == 'MV']\n",
    "        .groupby(by=['detector'])[y]\n",
    "        .median()\n",
    "        .sort_values(ascending=False)\n",
    "        .index.tolist()\n",
    "    )\n",
    "    ax = sns.boxplot(\n",
    "        data=us2_df,\n",
    "        y=y,\n",
    "        x='detector',\n",
    "        ax=ax,\n",
    "        order=order,\n",
    "        linewidth=1,\n",
    "        width=0.7,\n",
    "        color='lightblue',\n",
    "        showmeans=True,\n",
    "        meanprops={\n",
    "            'marker': '^',\n",
    "            'markerfacecolor': 'black',\n",
    "            'markeredgecolor': 'black',\n",
    "            'markersize': '4',\n",
    "        },\n",
    "    )\n",
    "    ax.set(title=to_label[y])\n",
    "    ax.set_ylabel('')\n",
    "    ax.set_xlabel('')\n",
    "    if i != 1:\n",
    "        ax.legend([])\n",
    "\n",
    "fig.suptitle('EUS', y=1)\n",
    "fig.tight_layout()\n",
    "plt.subplots_adjust(top=0.85)\n",
    "plt.show()\n",
    "# fig.savefig('images/numenta_us2.pdf', format='pdf', bbox_inches='tight')\n"
   ]
  },
  {
   "cell_type": "code",
   "execution_count": 15,
   "metadata": {},
   "outputs": [
    {
     "data": {
      "image/png": "[encoded data removed]",
      "text/plain": [
       "<Figure size 578.738x178.84 with 2 Axes>"
      ]
     },
     "metadata": {},
     "output_type": "display_data"
    }
   ],
   "source": [
    "tmp_df = pd.concat([us2_df[us2_df['metric'] == 'MV'], us1_df[us1_df['metric'] == 'MV']])\n",
    "to_label = dict(\n",
    "    f1='F1', f1_pa='F1 Point adjusted', aucpr='AUC PR', aucroc='AUC ROC'\n",
    ")\n",
    "fig, axs = plt.subplots(1, 2, figsize=set_size(subplots=(1, 2)))\n",
    "for i, y in enumerate(['f1', 'aucpr']):\n",
    "    ax = axs[i]\n",
    "    ax = sns.boxplot(\n",
    "        data=tmp_df,\n",
    "        y=y,\n",
    "        x='detector',\n",
    "        hue='exp',\n",
    "        ax=ax,\n",
    "        order=order,\n",
    "        linewidth=1,\n",
    "        width=0.7,\n",
    "        color='lightblue',\n",
    "        showmeans=True,\n",
    "        meanprops={\n",
    "            'marker': '^',\n",
    "            'markerfacecolor': 'black',\n",
    "            'markeredgecolor': 'black',\n",
    "            'markersize': '4',\n",
    "        },\n",
    "    )\n",
    "    ax.set(title=to_label[y])\n",
    "    ax.set_ylabel('')\n",
    "    ax.set_xlabel('')\n",
    "    if i != 1:\n",
    "        ax.legend([])\n",
    "sns.move_legend(axs[1], 'upper left', bbox_to_anchor=(1, 1))\n",
    "plt.tight_layout()\n",
    "plt.show()\n",
    "# fig.savefig(\n",
    "#     'images/numenta_base_us1_comparison.pdf', format='pdf', bbox_inches='tight'\n",
    "# )\n"
   ]
  },
  {
   "attachments": {},
   "cell_type": "markdown",
   "metadata": {},
   "source": [
    "## EUS-AE: Autoencoder within unsupervised metrics "
   ]
  },
  {
   "cell_type": "code",
   "execution_count": 16,
   "metadata": {},
   "outputs": [
    {
     "data": {
      "image/png": "[encoded data removed]",
      "text/plain": [
       "<Figure size 578.738x178.84 with 2 Axes>"
      ]
     },
     "metadata": {},
     "output_type": "display_data"
    }
   ],
   "source": [
    "fig, axs = plt.subplots(1, 2, figsize=set_size(subplots=(1, 2)))\n",
    "for i, y in enumerate(['f1', 'aucpr']):\n",
    "    ax = axs[i]\n",
    "    order = (\n",
    "        us3_df[us3_df['metric'] == 'MV']\n",
    "        .groupby(by=['detector'])[y]\n",
    "        .median()\n",
    "        .sort_values(ascending=False)\n",
    "        .index.tolist()\n",
    "    )\n",
    "    ax = sns.boxplot(\n",
    "        data=us3_df[us3_df['metric'] == 'MV'],\n",
    "        y=y,\n",
    "        x='detector',\n",
    "        ax=ax,\n",
    "        order=order,\n",
    "        linewidth=1,\n",
    "        width=0.7,\n",
    "        color='lightblue',\n",
    "        showmeans=True,\n",
    "        meanprops={\n",
    "            'marker': '^',\n",
    "            'markerfacecolor': 'black',\n",
    "            'markeredgecolor': 'black',\n",
    "            'markersize': '4',\n",
    "        },\n",
    "    )\n",
    "    ax.set(title=to_label[y])\n",
    "    ax.set_ylabel('')\n",
    "    ax.set_xlabel('')\n",
    "    if i != 1:\n",
    "        ax.legend([])\n",
    "\n",
    "    ax.set_xticklabels(\n",
    "        ax.get_xticklabels(), rotation=30, horizontalalignment='right'\n",
    "    )\n",
    "\n",
    "\n",
    "fig.suptitle('EUS-AE', y=1)\n",
    "fig.tight_layout()\n",
    "plt.subplots_adjust(top=0.8)\n",
    "plt.show()\n",
    "# fig.savefig('images/numenta_us3.pdf', format='pdf', bbox_inches='tight')\n"
   ]
  },
  {
   "cell_type": "code",
   "execution_count": 17,
   "metadata": {},
   "outputs": [
    {
     "data": {
      "image/png": "[encoded data removed]",
      "text/plain": [
       "<Figure size 578.738x178.84 with 2 Axes>"
      ]
     },
     "metadata": {},
     "output_type": "display_data"
    }
   ],
   "source": [
    "fig, axs = plt.subplots(1, 2, figsize=set_size(subplots=(1, 2)))\n",
    "tmp_df = pd.concat(\n",
    "    [\n",
    "        baseline_df.query('detector not in [\"GTA\", \"DWTMLEAD\"]'),\n",
    "        us3_df[us3_df['metric'] == 'MV'],\n",
    "    ]\n",
    ")\n",
    "\n",
    "for i, y in enumerate(['f1', 'aucpr']):\n",
    "    ax = axs[i]\n",
    "    order = (\n",
    "        us3_df[us3_df['metric'] == 'MV']\n",
    "        .groupby(by=['detector'])[y]\n",
    "        .median()\n",
    "        .sort_values(ascending=False)\n",
    "        .index.tolist()\n",
    "    )\n",
    "    ax = sns.boxplot(\n",
    "        data=tmp_df,\n",
    "        y=y,\n",
    "        x='detector',\n",
    "        ax=ax,\n",
    "        hue='exp',\n",
    "        order=order,\n",
    "        linewidth=1,\n",
    "        width=0.7,\n",
    "        color='lightblue',\n",
    "        showmeans=True,\n",
    "        meanprops={\n",
    "            'marker': '^',\n",
    "            'markerfacecolor': 'black',\n",
    "            'markeredgecolor': 'black',\n",
    "            'markersize': '4',\n",
    "        },\n",
    "    )\n",
    "    ax.set(title=to_label[y])\n",
    "    ax.set_ylabel('')\n",
    "    ax.set_xlabel('')\n",
    "    if i != 1:\n",
    "        ax.legend([])\n",
    "\n",
    "    ax.set_xticklabels(\n",
    "        ax.get_xticklabels(), rotation=30, horizontalalignment='right'\n",
    "    )\n",
    "\n",
    "sns.move_legend(axs[1], 'upper left', bbox_to_anchor=(1, 1))\n",
    "fig.tight_layout()\n",
    "plt.show()\n",
    "# fig.savefig('images/numenta_base_us3_.pdf', format='pdf', bbox_inches='tight')\n"
   ]
  },
  {
   "attachments": {},
   "cell_type": "markdown",
   "metadata": {},
   "source": [
    "## EUS-VAE: VAE within unsupervised metrics "
   ]
  },
  {
   "cell_type": "code",
   "execution_count": 18,
   "metadata": {},
   "outputs": [
    {
     "data": {
      "image/png": "[encoded data removed]",
      "text/plain": [
       "<Figure size 578.738x178.84 with 2 Axes>"
      ]
     },
     "metadata": {},
     "output_type": "display_data"
    }
   ],
   "source": [
    "fig, axs = plt.subplots(1, 2, figsize=set_size(subplots=(1, 2)))\n",
    "for i, y in enumerate(['f1', 'aucpr']):\n",
    "    ax = axs[i]\n",
    "    order = (\n",
    "        us5_df[us5_df['metric'] == 'MV']\n",
    "        .groupby(by=['detector'])[y]\n",
    "        .median()\n",
    "        .sort_values(ascending=False)\n",
    "        .index.tolist()\n",
    "    )\n",
    "    ax = sns.boxplot(\n",
    "        data=us5_df[us5_df['metric'] == 'MV'],\n",
    "        y=y,\n",
    "        x='detector',\n",
    "        ax=ax,\n",
    "        order=order,\n",
    "        linewidth=1,\n",
    "        width=0.7,\n",
    "        color='lightblue',\n",
    "        showmeans=True,\n",
    "        meanprops={\n",
    "            'marker': '^',\n",
    "            'markerfacecolor': 'black',\n",
    "            'markeredgecolor': 'black',\n",
    "            'markersize': '4',\n",
    "        },\n",
    "    )\n",
    "    ax.set(title=to_label[y])\n",
    "    ax.set_ylabel('')\n",
    "    ax.set_xlabel('')\n",
    "    if i != 1:\n",
    "        ax.legend([])\n",
    "\n",
    "    ax.set_xticklabels(\n",
    "        ax.get_xticklabels(), rotation=25, horizontalalignment='right'\n",
    "    )\n",
    "\n",
    "fig.suptitle('EUS-VAE', y=1)\n",
    "fig.tight_layout()\n",
    "plt.subplots_adjust(top=0.8)\n",
    "plt.show()\n",
    "# fig.savefig('images/numenta_us5.pdf', format='pdf', bbox_inches='tight')\n"
   ]
  },
  {
   "attachments": {},
   "cell_type": "markdown",
   "metadata": {},
   "source": [
    "Comparison between EUS-AE and EUS-VAE"
   ]
  },
  {
   "cell_type": "code",
   "execution_count": 19,
   "metadata": {},
   "outputs": [
    {
     "data": {
      "image/png": "[encoded data removed]",
      "text/plain": [
       "<Figure size 578.738x178.84 with 2 Axes>"
      ]
     },
     "metadata": {},
     "output_type": "display_data"
    }
   ],
   "source": [
    "fig, axs = plt.subplots(1, 2, figsize=set_size(subplots=(1, 2)))\n",
    "tmp_df = pd.concat(\n",
    "    [us5_df[us5_df['metric'] == 'MV'], us3_df[us3_df['metric'] == 'MV']]\n",
    ")\n",
    "\n",
    "for i, y in enumerate(['f1', 'aucpr']):\n",
    "    ax = axs[i]\n",
    "    order = (\n",
    "        us3_df[us3_df['metric'] == 'MV']\n",
    "        .groupby(by=['detector'])[y]\n",
    "        .median()\n",
    "        .sort_values(ascending=False)\n",
    "        .index.tolist()\n",
    "    )\n",
    "    ax = sns.boxplot(\n",
    "        data=tmp_df,\n",
    "        y=y,\n",
    "        x='detector',\n",
    "        ax=ax,\n",
    "        hue='exp',\n",
    "        order=order,\n",
    "        linewidth=1,\n",
    "        width=0.7,\n",
    "        color='lightblue',\n",
    "        showmeans=True,\n",
    "        meanprops={\n",
    "            'marker': '^',\n",
    "            'markerfacecolor': 'black',\n",
    "            'markeredgecolor': 'black',\n",
    "            'markersize': '4',\n",
    "        },\n",
    "    )\n",
    "    ax.set(title=to_label[y])\n",
    "    ax.set_ylabel('')\n",
    "    ax.set_xlabel('')\n",
    "    if i != 1:\n",
    "        ax.legend([])\n",
    "\n",
    "    ax.set_xticklabels(\n",
    "        ax.get_xticklabels(), rotation=30, horizontalalignment='right'\n",
    "    )\n",
    "\n",
    "sns.move_legend(axs[1], 'upper left', bbox_to_anchor=(1, 1))\n",
    "fig.tight_layout()\n",
    "plt.show()\n",
    "# fig.savefig('images/numenta_us5_.pdf', format='pdf', bbox_inches='tight')\n"
   ]
  },
  {
   "attachments": {},
   "cell_type": "markdown",
   "metadata": {},
   "source": [
    "Comparison of all potential pipeline upperbounds using the MV metric against baselines of VAE and k-NN"
   ]
  },
  {
   "cell_type": "code",
   "execution_count": 20,
   "metadata": {},
   "outputs": [
    {
     "name": "stderr",
     "output_type": "stream",
     "text": [
      "/tmp/ipykernel_3023381/2364640864.py:2: SettingWithCopyWarning: \n",
      "A value is trying to be set on a copy of a slice from a DataFrame.\n",
      "Try using .loc[row_indexer,col_indexer] = value instead\n",
      "\n",
      "See the caveats in the documentation: https://pandas.pydata.org/pandas-docs/stable/user_guide/indexing.html#returning-a-view-versus-a-copy\n",
      "  knn_df.loc[:, 'exp'] = 'k-NN'\n",
      "/tmp/ipykernel_3023381/2364640864.py:4: SettingWithCopyWarning: \n",
      "A value is trying to be set on a copy of a slice from a DataFrame.\n",
      "Try using .loc[row_indexer,col_indexer] = value instead\n",
      "\n",
      "See the caveats in the documentation: https://pandas.pydata.org/pandas-docs/stable/user_guide/indexing.html#returning-a-view-versus-a-copy\n",
      "  dwt_df.loc[:, 'exp'] = 'VAE'\n",
      "/tmp/ipykernel_3023381/2364640864.py:13: FutureWarning: The default value of numeric_only in DataFrameGroupBy.median is deprecated. In a future version, numeric_only will default to False. Either specify numeric_only or select only columns which should be valid for the function.\n",
      "  .median()['aucpr']\n"
     ]
    },
    {
     "name": "stdout",
     "output_type": "stream",
     "text": [
      "<Axes.ArtistList of 0 artists>\n"
     ]
    },
    {
     "data": {
      "image/png": "[encoded data removed]",
      "text/plain": [
       "<Figure size 578.738x357.68 with 1 Axes>"
      ]
     },
     "metadata": {},
     "output_type": "display_data"
    }
   ],
   "source": [
    "knn_df = baseline_df[baseline_df['detector'] == 'k-NN']\n",
    "knn_df.loc[:, 'exp'] = 'k-NN'\n",
    "dwt_df = baseline_df[baseline_df['detector'] == 'VAE']\n",
    "dwt_df.loc[:, 'exp'] = 'VAE'\n",
    "tmp_df = pd.concat(\n",
    "    [knn_df, baseline_df, us1_df, us3_df, us5_df, us2_df, dwt_df]\n",
    ")\n",
    "tmp = tmp_df.groupby(['exp', 'dataset']).max().reset_index()\n",
    "order = (\n",
    "    tmp_df.groupby(by=['exp', 'dataset'])\n",
    "    .max()\n",
    "    .groupby('exp')\n",
    "    .median()['aucpr']\n",
    "    .sort_values(ascending=False)\n",
    "    .index.tolist()\n",
    ")\n",
    "fig, ax = plt.subplots(1, 1, figsize=set_size(subplots=(1, 1)))\n",
    "ax = sns.boxplot(\n",
    "    data=tmp,\n",
    "    x='exp',\n",
    "    y='aucpr',\n",
    "    linewidth=1,\n",
    "    width=0.7,\n",
    "    order=order,\n",
    "    ax=ax,\n",
    "    showmeans=True,\n",
    "    meanprops={\n",
    "        'marker': '^',\n",
    "        'markerfacecolor': 'black',\n",
    "        'markeredgecolor': 'black',\n",
    "        'markersize': '4',\n",
    "    },\n",
    "    palette={\n",
    "        'EUS-AE': 'grey',\n",
    "        'EUS-VAE': 'grey',\n",
    "        'k-NN': 'lightblue',\n",
    "        'Base': 'grey',\n",
    "        'US': 'grey',\n",
    "        'EUS': 'grey',\n",
    "        'VAE': 'lightblue',\n",
    "    },\n",
    ")\n",
    "ax.set_xticklabels(\n",
    "    ax.get_xticklabels(), rotation=30, horizontalalignment='right'\n",
    ")\n",
    "ax.set_xlabel('Experiment')\n",
    "ax.set_ylabel('AUC PR')\n",
    "print(ax.artists)\n",
    "ax.set_title('Potential upperbounds')\n",
    "\n",
    "plt.tight_layout()\n",
    "plt.show()\n",
    "fig.savefig('images/numenta_us_vs_base.pdf', format='pdf', bbox_inches='tight')\n",
    "# "
   ]
  },
  {
   "attachments": {},
   "cell_type": "markdown",
   "metadata": {},
   "source": [
    "## META pipelines"
   ]
  },
  {
   "cell_type": "code",
   "execution_count": 21,
   "metadata": {},
   "outputs": [],
   "source": [
    "records = []\n",
    "best_models = load('./results/numenta_best_models.joblib')\n",
    "for model, dataset in best_models:\n",
    "    if dataset not in baseline_df['dataset'].values:\n",
    "        continue\n",
    "\n",
    "    r = (\n",
    "        baseline_df[\n",
    "            (baseline_df['detector'] == detectors_dict[model])\n",
    "            & (baseline_df['dataset'] == dataset)\n",
    "        ]\n",
    "        .iloc[0]\n",
    "        .to_dict()\n",
    "    )\n",
    "    r['metric_value'] = 0\n",
    "    r['metric'] = 'Base'\n",
    "    records.append(r)\n",
    "\n",
    "\n",
    "meta_df1 = pd.DataFrame.from_records(records)\n",
    "meta_df1['exp'] = 'META_base'\n"
   ]
  },
  {
   "cell_type": "code",
   "execution_count": 22,
   "metadata": {},
   "outputs": [],
   "source": [
    "records = []\n",
    "best_models = load('./results/numenta_best_models.joblib')\n",
    "for model, dataset in best_models:\n",
    "    if dataset not in baseline_df['dataset'].values:\n",
    "        continue\n",
    "    if model not in ['gta', 'dwtmlead']:\n",
    "        with open(\n",
    "            f'./model/{model}/numenta_unsupervised_aev2/{dataset}/mv.yaml'\n",
    "        ) as f:\n",
    "            r = yaml.unsafe_load(f)\n",
    "            r['detector'] = detectors_dict[model]\n",
    "            r['metric_value'] = r.pop('metric')\n",
    "            r['metric'] = 'MV'\n",
    "            r['dataset'] = dataset\n",
    "            records.append(r)\n",
    "    else:\n",
    "        if model == 'dwtmlead':\n",
    "            r = (\n",
    "                baseline_df[\n",
    "                    (baseline_df['detector'] == 'DWTMLEAD')\n",
    "                    & (baseline_df['dataset'] == dataset)\n",
    "                ]\n",
    "                .iloc[0]\n",
    "                .to_dict()\n",
    "            )\n",
    "            r['metric_value'] = 0\n",
    "            r['metric'] = 'Base'\n",
    "            records.append(r)\n",
    "        if model == 'gta':\n",
    "            r = (\n",
    "                baseline_df[\n",
    "                    (baseline_df['detector'] == 'GTA')\n",
    "                    & (baseline_df['dataset'] == dataset)\n",
    "                ]\n",
    "                .iloc[0]\n",
    "                .to_dict()\n",
    "            )\n",
    "            r['metric_value'] = 0\n",
    "            r['metric'] = 'Base'\n",
    "            records.append(r)\n",
    "\n",
    "meta_df = pd.DataFrame.from_records(records)\n",
    "meta_df['exp'] = 'META'\n"
   ]
  },
  {
   "cell_type": "code",
   "execution_count": 23,
   "metadata": {},
   "outputs": [],
   "source": [
    "records = []\n",
    "best_models = load('./results/numenta_best_models_tsfresh.joblib')\n",
    "for model, dataset in best_models:\n",
    "    if dataset not in baseline_df['dataset'].values:\n",
    "        continue\n",
    "    r = (\n",
    "        baseline_df[\n",
    "            (baseline_df['detector'] == detectors_dict[model])\n",
    "            & (baseline_df['dataset'] == dataset)\n",
    "        ]\n",
    "        .iloc[0]\n",
    "        .to_dict()\n",
    "    )\n",
    "    r['metric_value'] = 0\n",
    "    r['metric'] = 'Base'\n",
    "    records.append(r)\n",
    "\n",
    "\n",
    "meta_df2 = pd.DataFrame.from_records(records)\n",
    "meta_df2['exp'] = 'META-ts_base'\n"
   ]
  },
  {
   "cell_type": "code",
   "execution_count": 24,
   "metadata": {},
   "outputs": [],
   "source": [
    "records = []\n",
    "best_models = load('./results/numenta_best_models_tsfresh.joblib')\n",
    "for model, dataset in best_models:\n",
    "    if dataset not in baseline_df['dataset'].values:\n",
    "        continue\n",
    "    if model not in ['gta', 'dwtmlead']:\n",
    "        with open(\n",
    "            f'./model/{model}/numenta_unsupervised_aev2/{dataset}/mv.yaml'\n",
    "        ) as f:\n",
    "            r = yaml.unsafe_load(f)\n",
    "            r['detector'] = detectors_dict[model]\n",
    "            r['metric_value'] = r.pop('metric')\n",
    "            r['metric'] = 'MV'\n",
    "            r['dataset'] = dataset\n",
    "            records.append(r)\n",
    "    else:\n",
    "        if model == 'dwtmlead':\n",
    "            r = (\n",
    "                baseline_df[\n",
    "                    (baseline_df['detector'] == 'DWTMLEAD')\n",
    "                    & (baseline_df['dataset'] == dataset)\n",
    "                ]\n",
    "                .iloc[0]\n",
    "                .to_dict()\n",
    "            )\n",
    "            r['metric_value'] = 0\n",
    "            r['metric'] = 'Base'\n",
    "            records.append(r)\n",
    "        if model == 'gta':\n",
    "            r = (\n",
    "                baseline_df[\n",
    "                    (baseline_df['detector'] == 'GTA')\n",
    "                    & (baseline_df['dataset'] == dataset)\n",
    "                ]\n",
    "                .iloc[0]\n",
    "                .to_dict()\n",
    "            )\n",
    "            r['metric_value'] = 0\n",
    "            r['metric'] = 'Base'\n",
    "            records.append(r)\n",
    "\n",
    "meta_tsfresh_df = pd.DataFrame.from_records(records)\n",
    "meta_tsfresh_df['exp'] = 'META-ts'\n"
   ]
  },
  {
   "attachments": {},
   "cell_type": "markdown",
   "metadata": {},
   "source": [
    "Plot performance of all meta pipelines against potenital baseline and baselines of k-NN and VAE."
   ]
  },
  {
   "cell_type": "code",
   "execution_count": 25,
   "metadata": {},
   "outputs": [
    {
     "name": "stderr",
     "output_type": "stream",
     "text": [
      "/tmp/ipykernel_3023381/2749348520.py:9: FutureWarning: The default value of numeric_only in DataFrameGroupBy.median is deprecated. In a future version, numeric_only will default to False. Either specify numeric_only or select only columns which should be valid for the function.\n",
      "  .median()['aucpr']\n"
     ]
    },
    {
     "data": {
      "image/png": "[encoded data removed]",
      "text/plain": [
       "<Figure size 578.738x357.68 with 1 Axes>"
      ]
     },
     "metadata": {},
     "output_type": "display_data"
    }
   ],
   "source": [
    "tmp_df = pd.concat(\n",
    "    [knn_df, dwt_df, baseline_df, meta_df, meta_tsfresh_df, meta_df1, meta_df2]\n",
    ")\n",
    "tmp = tmp_df.groupby(['exp', 'dataset']).max().reset_index()\n",
    "order = (\n",
    "    tmp_df.groupby(by=['exp', 'dataset'])\n",
    "    .max()\n",
    "    .groupby('exp')\n",
    "    .median()['aucpr']\n",
    "    .sort_values(ascending=False)\n",
    "    .index.tolist()\n",
    ")\n",
    "\n",
    "fig, ax = plt.subplots(1, 1, figsize=set_size(subplots=(1, 1)))\n",
    "sns.boxplot(\n",
    "    data=tmp,\n",
    "    x='exp',\n",
    "    y='aucpr',\n",
    "    color='lightblue',\n",
    "    linewidth=1,\n",
    "    width=0.7,\n",
    "    order=order,\n",
    "    ax=ax,\n",
    "    showmeans=True,\n",
    "    meanprops={\n",
    "        'marker': '^',\n",
    "        'markerfacecolor': 'black',\n",
    "        'markeredgecolor': 'black',\n",
    "        'markersize': '4',\n",
    "    },\n",
    "    palette={\n",
    "        'k-NN': 'lightblue',\n",
    "        'META': 'lightblue',\n",
    "        'META-ts': 'lightblue',\n",
    "        'EUS': 'grey',\n",
    "        'META_base': 'lightblue',\n",
    "        'Base': 'grey',\n",
    "        'META-ts_base': 'lightblue',\n",
    "        'VAE': 'lightblue',\n",
    "    },\n",
    ")\n",
    "ax.set_xticklabels(\n",
    "    ax.get_xticklabels(), rotation=30, horizontalalignment='right'\n",
    ")\n",
    "ax.set_xlabel('Experiment')\n",
    "ax.set_ylabel('AUC PR')\n",
    "plt.tight_layout()\n",
    "plt.show()\n",
    "# fig.savefig(\n",
    "#     'images/numenta_meta_us_vs_base.pdf', format='pdf', bbox_inches='tight'\n",
    "# )\n"
   ]
  },
  {
   "cell_type": "code",
   "execution_count": 26,
   "metadata": {},
   "outputs": [
    {
     "name": "stderr",
     "output_type": "stream",
     "text": [
      "/tmp/ipykernel_3023381/1644167453.py:9: FutureWarning: The default value of numeric_only in DataFrameGroupBy.median is deprecated. In a future version, numeric_only will default to False. Either specify numeric_only or select only columns which should be valid for the function.\n",
      "  .median()['f1']\n"
     ]
    },
    {
     "data": {
      "image/png": "[encoded data removed]",
      "text/plain": [
       "<Figure size 578.738x357.68 with 1 Axes>"
      ]
     },
     "metadata": {},
     "output_type": "display_data"
    }
   ],
   "source": [
    "tmp_df = pd.concat(\n",
    "    [knn_df, dwt_df, baseline_df, meta_df, meta_tsfresh_df, meta_df1, meta_df2]\n",
    ")\n",
    "tmp = tmp_df.groupby(['exp', 'dataset']).max().reset_index()\n",
    "order = (\n",
    "    tmp_df.groupby(by=['exp', 'dataset'])\n",
    "    .max()\n",
    "    .groupby('exp')\n",
    "    .median()['f1']\n",
    "    .sort_values(ascending=False)\n",
    "    .index.tolist()\n",
    ")\n",
    "\n",
    "fig, ax = plt.subplots(1, 1, figsize=set_size(subplots=(1, 1)))\n",
    "sns.boxplot(\n",
    "    data=tmp,\n",
    "    x='exp',\n",
    "    y='f1',\n",
    "    color='lightblue',\n",
    "    linewidth=1,\n",
    "    width=0.7,\n",
    "    order=order,\n",
    "    ax=ax,\n",
    "    showmeans=True,\n",
    "    meanprops={\n",
    "        'marker': '^',\n",
    "        'markerfacecolor': 'black',\n",
    "        'markeredgecolor': 'black',\n",
    "        'markersize': '4',\n",
    "    },\n",
    "    palette={\n",
    "        'k-NN': 'lightblue',\n",
    "        'META': 'lightblue',\n",
    "        'META-ts': 'lightblue',\n",
    "        'EUS': 'grey',\n",
    "        'META_base': 'lightblue',\n",
    "        'VAE': 'lightblue',\n",
    "        'Base': 'grey',\n",
    "        'META-ts_base': 'lightblue',\n",
    "    },\n",
    ")\n",
    "ax.set_xticklabels(\n",
    "    ax.get_xticklabels(), rotation=30, horizontalalignment='right'\n",
    ")\n",
    "ax.set_xlabel('Experiment')\n",
    "ax.set_ylabel('F1')\n",
    "plt.tight_layout()\n",
    "plt.show()\n",
    "# fig.savefig('images/numenta_meta_us_vs_base.pdf', format='pdf', bbox_inches='tight')\n"
   ]
  }
 ],
 "metadata": {
  "kernelspec": {
   "display_name": "automltsad-m3CR1GKj-py3.10",
   "language": "python",
   "name": "python3"
  },
  "language_info": {
   "codemirror_mode": {
    "name": "ipython",
    "version": 3
   },
   "file_extension": ".py",
   "mimetype": "text/x-python",
   "name": "python",
   "nbconvert_exporter": "python",
   "pygments_lexer": "ipython3",
   "version": "3.10.2"
  },
  "orig_nbformat": 4,
  "vscode": {
   "interpreter": {
    "hash": "753c5367c7457dfba345b6d1c78053c473309d2e4cf887d946f7023df441abb4"
   }
  }
 },
 "nbformat": 4,
 "nbformat_minor": 2
}
