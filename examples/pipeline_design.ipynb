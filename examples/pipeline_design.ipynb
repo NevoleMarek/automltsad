{
 "cells": [
  {
   "attachments": {},
   "cell_type": "markdown",
   "metadata": {},
   "source": [
    "# AutoML Pipelines"
   ]
  },
  {
   "attachments": {},
   "cell_type": "markdown",
   "metadata": {},
   "source": [
    "## Baseline (ADT-like)"
   ]
  },
  {
   "attachments": {},
   "cell_type": "markdown",
   "metadata": {},
   "source": [
    "* Completly unsupervised\n",
    "* Auto-Period for window selection\n",
    "* Optuna for hyperparameter selection\n",
    "* Excess mass/Mass volume metric\n"
   ]
  },
  {
   "attachments": {},
   "cell_type": "markdown",
   "metadata": {},
   "source": [
    "## Metalearning\n"
   ]
  },
  {
   "attachments": {},
   "cell_type": "markdown",
   "metadata": {},
   "source": [
    "![alt](./img/Screenshot%202023-02-01%20094856.png)"
   ]
  },
  {
   "attachments": {},
   "cell_type": "markdown",
   "metadata": {},
   "source": [
    "* Split ~70/~30 UCR datasets into train/test split\n",
    "* Select a set of AD models\n",
    "* Window size as a hyperparameter or use Auto-Period\n",
    "* Train them in supervised way on train datasets (AUCPR, AUCROC, best F1, F1@K)\n",
    "* Extract meta-features from the datasets\n",
    "* Using collaborative filtering recommend best model for test datasets based on their meta-features\n",
    "    * Use the recommended model as is\n",
    "    * Use Window size of closest train dataset based on meta-features\n",
    "    * or use Auto-Period\n",
    "    * Train the recommended model with EM/MV metric from scratch\n",
    "    * Use recommended model as a warm start for optimization"
   ]
  }
 ],
 "metadata": {
  "kernelspec": {
   "display_name": "automltsad-DuHKdg10-py3.10",
   "language": "python",
   "name": "python3"
  },
  "language_info": {
   "codemirror_mode": {
    "name": "ipython",
    "version": 3
   },
   "file_extension": ".py",
   "mimetype": "text/x-python",
   "name": "python",
   "nbconvert_exporter": "python",
   "pygments_lexer": "ipython3",
   "version": "3.10.7"
  },
  "orig_nbformat": 4,
  "vscode": {
   "interpreter": {
    "hash": "34922e479d629e8a37591713d52f461334259fb96d0b4427dce13d4d84044151"
   }
  }
 },
 "nbformat": 4,
 "nbformat_minor": 2
}
