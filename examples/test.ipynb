{
 "cells": [
  {
   "cell_type": "code",
   "execution_count": 12,
   "metadata": {},
   "outputs": [
    {
     "data": {
      "text/plain": [
       "(tensor([0, 1, 2, 3, 4]), tensor([2, 3, 4, 5, 6, 7]))"
      ]
     },
     "execution_count": 12,
     "metadata": {},
     "output_type": "execute_result"
    }
   ],
   "source": [
    "import torch\n",
    "from torch.utils.data import Dataset\n",
    "import numpy as np\n",
    "\n",
    "LAB = 3\n",
    "PRED = 3\n",
    "\n",
    "class test(Dataset):\n",
    "    def __init__(self, data) -> None:\n",
    "        super().__init__()\n",
    "        self.data = data\n",
    "        self.seq_len = 5\n",
    "        self.label_len = LAB\n",
    "        self.pred_len = PRED\n",
    "    \n",
    "    def __getitem__(self, index):\n",
    "        s_begin = index\n",
    "        s_end = s_begin + self.seq_len\n",
    "        r_begin = s_end - self.label_len\n",
    "        r_end = s_end + self.pred_len\n",
    "\n",
    "        seq_x = self.data[s_begin:s_end]\n",
    "        seq_y = self.data[r_begin:r_end]\n",
    "        return seq_x, seq_y\n",
    "\n",
    "d = torch.from_numpy(np.array(list(range(100))))\n",
    "dtst = test(d)\n",
    "\n",
    "dtst[0]\n"
   ]
  },
  {
   "cell_type": "code",
   "execution_count": 13,
   "metadata": {},
   "outputs": [
    {
     "data": {
      "text/plain": [
       "tensor([2, 3, 4, 0, 0, 0])"
      ]
     },
     "execution_count": 13,
     "metadata": {},
     "output_type": "execute_result"
    }
   ],
   "source": [
    "x, y = dtst[0]\n",
    "\n",
    "dec_inp = (\n",
    "    torch.zeros_like(y[-PRED :])\n",
    ")\n",
    "dec_inp = (\n",
    "    torch.cat([y[: LAB], dec_inp], dim=0)\n",
    ")\n",
    "\n",
    "dec_inp"
   ]
  }
 ],
 "metadata": {
  "kernelspec": {
   "display_name": "automltsad-DuHKdg10-py3.10",
   "language": "python",
   "name": "python3"
  },
  "language_info": {
   "codemirror_mode": {
    "name": "ipython",
    "version": 3
   },
   "file_extension": ".py",
   "mimetype": "text/x-python",
   "name": "python",
   "nbconvert_exporter": "python",
   "pygments_lexer": "ipython3",
   "version": "3.10.7"
  },
  "orig_nbformat": 4,
  "vscode": {
   "interpreter": {
    "hash": "34922e479d629e8a37591713d52f461334259fb96d0b4427dce13d4d84044151"
   }
  }
 },
 "nbformat": 4,
 "nbformat_minor": 2
}
